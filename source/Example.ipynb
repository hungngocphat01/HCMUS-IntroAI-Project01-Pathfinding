{
 "cells": [
  {
   "cell_type": "code",
   "execution_count": 1,
   "id": "ec67c143-4aee-4e0f-8f08-ac8629921490",
   "metadata": {},
   "outputs": [],
   "source": [
    "import matplotlib.pyplot as plt\n",
    "from Graph import Graph\n",
    "from Queue import Queue\n",
    "from heuristic_func import *\n",
    "from searching_algorithms import Astar, DFS, BFS"
   ]
  },
  {
   "cell_type": "code",
   "execution_count": 33,
   "id": "2bffeec2-9305-45ef-aa5d-f8fac6082d6d",
   "metadata": {},
   "outputs": [
    {
     "name": "stdout",
     "output_type": "stream",
     "text": [
      "Graph initialized from maze with size 7 x 17\n"
     ]
    },
    {
     "data": {
      "image/png": "[encoded data removed]",
      "text/plain": [
       "<Figure size 500x300 with 1 Axes>"
      ]
     },
     "metadata": {},
     "output_type": "display_data"
    },
    {
     "name": "stdout",
     "output_type": "stream",
     "text": [
      "Starting point (x, y) = (5, 1)\n",
      "Ending point (x, y) = (1, 16)\n"
     ]
    }
   ],
   "source": [
    "g = Graph('testcases/nobonus3.txt')\n",
    "fs = (5, 3)\n",
    "g.visualize(figsize=fs)"
   ]
  },
  {
   "cell_type": "code",
   "execution_count": 34,
   "id": "ad3dcf6a-9e69-4e27-8dbf-ca8a92a3fdd8",
   "metadata": {},
   "outputs": [
    {
     "name": "stdout",
     "output_type": "stream",
     "text": [
      "CPU times: user 368 µs, sys: 8 µs, total: 376 µs\n",
      "Wall time: 382 µs\n"
     ]
    },
    {
     "data": {
      "text/plain": [
       "True"
      ]
     },
     "execution_count": 34,
     "metadata": {},
     "output_type": "execute_result"
    }
   ],
   "source": [
    "g.clear()\n",
    "%time BFS(g)"
   ]
  },
  {
   "cell_type": "code",
   "execution_count": 35,
   "id": "7cb43b8c-5aee-4fea-a604-a3d3a208df0b",
   "metadata": {},
   "outputs": [
    {
     "data": {
      "image/png": "[encoded data removed]",
      "text/plain": [
       "<Figure size 500x300 with 1 Axes>"
      ]
     },
     "metadata": {},
     "output_type": "display_data"
    },
    {
     "name": "stdout",
     "output_type": "stream",
     "text": [
      "Starting point (x, y) = (5, 1)\n",
      "Ending point (x, y) = (1, 16)\n"
     ]
    },
    {
     "data": {
      "text/plain": [
       "19"
      ]
     },
     "execution_count": 35,
     "metadata": {},
     "output_type": "execute_result"
    }
   ],
   "source": [
    "visited, path, cost = g.get_visited()\n",
    "g.visualize(path, visited=visited, figsize=fs)\n",
    "cost"
   ]
  },
  {
   "cell_type": "code",
   "execution_count": 36,
   "id": "c6f8aa00-0e6e-4f71-bd9e-ec0e6de5c5ca",
   "metadata": {},
   "outputs": [
    {
     "name": "stdout",
     "output_type": "stream",
     "text": [
      "CPU times: user 258 µs, sys: 6 µs, total: 264 µs\n",
      "Wall time: 268 µs\n"
     ]
    },
    {
     "data": {
      "image/png": "[encoded data removed]",
      "text/plain": [
       "<Figure size 500x300 with 1 Axes>"
      ]
     },
     "metadata": {},
     "output_type": "display_data"
    },
    {
     "name": "stdout",
     "output_type": "stream",
     "text": [
      "Starting point (x, y) = (5, 1)\n",
      "Ending point (x, y) = (1, 16)\n"
     ]
    },
    {
     "data": {
      "text/plain": [
       "35"
      ]
     },
     "execution_count": 36,
     "metadata": {},
     "output_type": "execute_result"
    }
   ],
   "source": [
    "g.clear()\n",
    "%time DFS(g)\n",
    "visited, path, cost = g.get_visited()\n",
    "g.visualize(path, visited=visited, figsize=fs)\n",
    "cost"
   ]
  },
  {
   "cell_type": "code",
   "execution_count": 39,
   "id": "7bc86c5d-a0c3-4ecf-af73-8d1a74c42b72",
   "metadata": {},
   "outputs": [
    {
     "name": "stdout",
     "output_type": "stream",
     "text": [
      "CPU times: user 621 µs, sys: 13 µs, total: 634 µs\n",
      "Wall time: 639 µs\n"
     ]
    },
    {
     "data": {
      "image/png": "[encoded data removed]",
      "text/plain": [
       "<Figure size 500x300 with 1 Axes>"
      ]
     },
     "metadata": {},
     "output_type": "display_data"
    },
    {
     "name": "stdout",
     "output_type": "stream",
     "text": [
      "Starting point (x, y) = (5, 1)\n",
      "Ending point (x, y) = (1, 16)\n"
     ]
    },
    {
     "data": {
      "text/plain": [
       "19"
      ]
     },
     "execution_count": 39,
     "metadata": {},
     "output_type": "execute_result"
    }
   ],
   "source": [
    "g.clear()\n",
    "%time Astar(g, euclide_heuristic)\n",
    "visited, path, cost = g.get_visited()\n",
    "g.visualize(path, visited=visited, figsize=fs)\n",
    "cost"
   ]
  },
  {
   "cell_type": "code",
   "execution_count": null,
   "id": "bf3f635a-44b0-48e6-b62d-47ed8883f13a",
   "metadata": {},
   "outputs": [],
   "source": []
  }
 ],
 "metadata": {
  "interpreter": {
   "hash": "4e4c2c0f6b2085336f04bbfd7596f27c933c26eefbcd6d47580db8892027b1de"
  },
  "kernelspec": {
   "display_name": "Python 3 (ipykernel)",
   "language": "python",
   "name": "python3"
  },
  "language_info": {
   "codemirror_mode": {
    "name": "ipython",
    "version": 3
   },
   "file_extension": ".py",
   "mimetype": "text/x-python",
   "name": "python",
   "nbconvert_exporter": "python",
   "pygments_lexer": "ipython3",
   "version": "3.8.8"
  }
 },
 "nbformat": 4,
 "nbformat_minor": 5
}
