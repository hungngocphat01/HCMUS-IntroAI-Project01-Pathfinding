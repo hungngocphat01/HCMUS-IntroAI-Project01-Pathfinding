{
 "cells": [
  {
   "cell_type": "code",
   "execution_count": 1,
   "id": "ec67c143-4aee-4e0f-8f08-ac8629921490",
   "metadata": {},
   "outputs": [],
   "source": [
    "import matplotlib.pyplot as plt\n",
    "from Graph import Graph\n",
    "from Queue import Queue\n",
    "from heuristic_func import *\n",
    "from searching_algorithms import Astar, DFS"
   ]
  },
  {
   "cell_type": "code",
   "execution_count": 2,
   "id": "2bffeec2-9305-45ef-aa5d-f8fac6082d6d",
   "metadata": {},
   "outputs": [
    {
     "data": {
      "image/png": "[encoded data removed]",
      "text/plain": [
       "<Figure size 300x300 with 1 Axes>"
      ]
     },
     "metadata": {},
     "output_type": "display_data"
    },
    {
     "name": "stdout",
     "output_type": "stream",
     "text": [
      "Starting point (x, y) = (5, 1)\n",
      "Ending point (x, y) = (1, 16)\n"
     ]
    }
   ],
   "source": [
    "g = Graph('testcases/nobonus2.txt')\n",
    "g.visualize(figsize=(3, 3))"
   ]
  },
  {
   "cell_type": "code",
   "execution_count": 5,
   "id": "ad3dcf6a-9e69-4e27-8dbf-ca8a92a3fdd8",
   "metadata": {},
   "outputs": [
    {
     "name": "stdout",
     "output_type": "stream",
     "text": [
      "CPU times: user 227 µs, sys: 253 µs, total: 480 µs\n",
      "Wall time: 486 µs\n"
     ]
    },
    {
     "data": {
      "text/plain": [
       "True"
      ]
     },
     "execution_count": 5,
     "metadata": {},
     "output_type": "execute_result"
    }
   ],
   "source": [
    "g.clear()\n",
    "%time Astar(g, manhattan_heuristic)"
   ]
  },
  {
   "cell_type": "code",
   "execution_count": 6,
   "id": "7cb43b8c-5aee-4fea-a604-a3d3a208df0b",
   "metadata": {},
   "outputs": [
    {
     "data": {
      "image/png": "[encoded data removed]",
      "text/plain": [
       "<Figure size 500x500 with 1 Axes>"
      ]
     },
     "metadata": {},
     "output_type": "display_data"
    },
    {
     "name": "stdout",
     "output_type": "stream",
     "text": [
      "Starting point (x, y) = (5, 1)\n",
      "Ending point (x, y) = (1, 16)\n"
     ]
    },
    {
     "data": {
      "text/plain": [
       "950"
      ]
     },
     "execution_count": 6,
     "metadata": {},
     "output_type": "execute_result"
    }
   ],
   "source": [
    "visited, path, cost = g.get_visited()\n",
    "g.visualize(path, visited=visited, figsize=(5,5))\n",
    "cost"
   ]
  },
  {
   "cell_type": "code",
   "execution_count": null,
   "id": "49f83c7f-8082-4ad6-998a-0374c75582ab",
   "metadata": {},
   "outputs": [],
   "source": []
  }
 ],
 "metadata": {
  "interpreter": {
   "hash": "4e4c2c0f6b2085336f04bbfd7596f27c933c26eefbcd6d47580db8892027b1de"
  },
  "kernelspec": {
   "display_name": "Python 3 (ipykernel)",
   "language": "python",
   "name": "python3"
  },
  "language_info": {
   "codemirror_mode": {
    "name": "ipython",
    "version": 3
   },
   "file_extension": ".py",
   "mimetype": "text/x-python",
   "name": "python",
   "nbconvert_exporter": "python",
   "pygments_lexer": "ipython3",
   "version": "3.8.8"
  }
 },
 "nbformat": 4,
 "nbformat_minor": 5
}
