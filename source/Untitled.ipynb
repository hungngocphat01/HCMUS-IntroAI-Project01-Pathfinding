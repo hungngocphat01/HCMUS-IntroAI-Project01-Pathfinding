{
 "cells": [
  {
   "cell_type": "code",
   "execution_count": 45,
   "id": "44eb202e-fe6c-4561-a63a-5bd10b2a9ebd",
   "metadata": {},
   "outputs": [],
   "source": [
    "import matplotlib.pyplot as plt\n",
    "from Graph import Graph\n",
    "from Queue import Queue\n",
    "from heuristic_func import *\n",
    "from searching_algorithms import Astar, DFS\n",
    "from maze_preprocess import Node\n",
    "from copy import deepcopy"
   ]
  },
  {
   "cell_type": "code",
   "execution_count": 56,
   "id": "f3a6a542-96b6-4ac7-90f4-54422cb9e9db",
   "metadata": {},
   "outputs": [
    {
     "data": {
      "image/png": "[encoded data removed]",
      "text/plain": [
       "<Figure size 500x500 with 1 Axes>"
      ]
     },
     "metadata": {},
     "output_type": "display_data"
    },
    {
     "name": "stdout",
     "output_type": "stream",
     "text": [
      "Starting point (x, y) = (1, 1)\n",
      "Ending point (x, y) = (20, 19)\n",
      "Bonus point at position (x, y) = (19, 11) with point -7\n"
     ]
    }
   ],
   "source": [
    "g = Graph('testcases/bonus2.txt')\n",
    "fs = (5, 5)\n",
    "g.visualize(figsize=fs)"
   ]
  },
  {
   "cell_type": "markdown",
   "id": "f7bd3941-0159-4934-ae8d-4d3031105c7d",
   "metadata": {},
   "source": [
    "Với trường hợp có điểm thưởng:\n",
    "- Xây dựng một đồ thị mới chỉ gồm các điểm thưởng và START, END.\n",
    "- Tất cả các đỉnh được nối với nhau (đồ thị đủ).\n",
    "- Trọng số nối giữa các cạnh là khoảng cách heuristic giữa 2 đỉnh đó + số điểm thưởng.\n",
    "- Tìm đường đi ngắn nhất từ START -> END trên đồ thị này.\n",
    "- Với danh sách đường đi tìm được, tìm đường đi ngắn nhất thực tế trên mỗi chặng."
   ]
  },
  {
   "cell_type": "code",
   "execution_count": 57,
   "id": "8a46e11c-9ba4-426a-a400-e336a950ed3f",
   "metadata": {},
   "outputs": [],
   "source": [
    "def make_routing_graph(g: Graph, hf):\n",
    "    # Khởi tạo một đồ thị rỗng\n",
    "    routing = Graph(None)\n",
    "    start = g.start \n",
    "    end = g.end\n",
    "    \n",
    "    routing.start = start \n",
    "    routing.end = end \n",
    "    # Danh sách các node của đồ thị định hướng\n",
    "    node_list = {\n",
    "        start: Node(start),\n",
    "        end: Node(end)\n",
    "    }\n",
    "    # Nối start và end\n",
    "    node_list[start].neighbors.append({\n",
    "        'coord': end, \n",
    "        'cost': hf(end, start)\n",
    "    })\n",
    "    \n",
    "    # Danh sách các đỉnh tương ứng với từng điểm thưởng\n",
    "    bonus_nodes = []\n",
    "    bonus_values = {}\n",
    "    \n",
    "    # Với mỗi điểm thưởng \n",
    "    for bonus in g.bonus_points:\n",
    "        new_coord = (bonus[0], bonus[1])\n",
    "        new_cost = bonus[2]\n",
    "        bonus_values[new_coord] = new_cost\n",
    "        \n",
    "        # Tạo một đỉnh tương ứng với tọa độ của nó\n",
    "        new_node = Node(new_coord)\n",
    "        # Kết nối đỉnh này với tất cả các đỉnh đang có của đồ thị\n",
    "        for i, old_node in enumerate(bonus_nodes):\n",
    "            distance = hf(old_node.coord, new_coord)\n",
    "            new_old_cost = distance + bonus_values[old_node.coord]\n",
    "            old_new_cost = distance + new_cost\n",
    "            \n",
    "            if new_old_cost < 0:\n",
    "                new_old_cost = 0\n",
    "            if old_new_cost < 0:\n",
    "                old_new_cost = 0\n",
    "            \n",
    "            # Nối đỉnh này với đỉnh đang có\n",
    "            new_node.neighbors.append({\n",
    "                'coord': old_node.coord, \n",
    "                'cost': new_old_cost\n",
    "            })\n",
    "            # Nối đỉnh đang có với đỉnh này\n",
    "            bonus_nodes[i].neighbors.append({\n",
    "                'coord': new_coord, \n",
    "                'cost': old_new_cost\n",
    "            })\n",
    "        # Nối đỉnh này với đỉnh end\n",
    "        new_node.neighbors.append({\n",
    "            'coord': end, \n",
    "            'cost': hf(end, new_coord)\n",
    "        })\n",
    "        bonus_nodes.append(new_node)\n",
    "    \n",
    "    # Kết nối đỉnh start với tất cả các đỉnh thưởng\n",
    "    # Thêm các đỉnh thưởng vào đồ thị định hướng\n",
    "    for bonus_node in bonus_nodes:\n",
    "        node_list[start].neighbors.append({\n",
    "            'coord': bonus_node.coord, \n",
    "            'cost': hf(bonus_node.coord, start) + bonus_values[bonus_node.coord]\n",
    "        })\n",
    "        \n",
    "        node_list[bonus_node.coord] = bonus_node\n",
    "    \n",
    "    routing.node_list = node_list\n",
    "    return routing"
   ]
  },
  {
   "cell_type": "code",
   "execution_count": 58,
   "id": "a64af66e-5f65-42af-a89a-fd33eed5c919",
   "metadata": {},
   "outputs": [],
   "source": [
    "rg = make_routing_graph(g, manhattan_heuristic)"
   ]
  },
  {
   "cell_type": "code",
   "execution_count": 59,
   "id": "12014a43-2990-4ce3-83e7-2c6d3dc827e8",
   "metadata": {},
   "outputs": [
    {
     "data": {
      "text/plain": [
       "{(1,\n",
       "  1): <Node coord=(1, 1) prev=None neighbors=[{'coord': (20, 19), 'cost': 37.0}, {'coord': (19, 11), 'cost': 21.0}]>,\n",
       " (20, 19): <Node coord=(20, 19) prev=None neighbors=[]>,\n",
       " (19,\n",
       "  11): <Node coord=(19, 11) prev=None neighbors=[{'coord': (20, 19), 'cost': 9.0}]>}"
      ]
     },
     "execution_count": 59,
     "metadata": {},
     "output_type": "execute_result"
    }
   ],
   "source": [
    "rg.node_list"
   ]
  },
  {
   "cell_type": "code",
   "execution_count": 60,
   "id": "d66ed25a-36de-4216-8899-497c17a71f36",
   "metadata": {},
   "outputs": [
    {
     "data": {
      "text/plain": [
       "True"
      ]
     },
     "execution_count": 60,
     "metadata": {},
     "output_type": "execute_result"
    }
   ],
   "source": [
    "Astar(rg, manhattan_heuristic)"
   ]
  },
  {
   "cell_type": "code",
   "execution_count": 61,
   "id": "7f16f96e-8e43-4446-8a46-b738220e1028",
   "metadata": {},
   "outputs": [],
   "source": [
    "path, cost = rg.get_path()"
   ]
  },
  {
   "cell_type": "code",
   "execution_count": 62,
   "id": "019192b5-8471-45c0-9571-f3e80ea09355",
   "metadata": {},
   "outputs": [
    {
     "data": {
      "text/plain": [
       "[(1, 1), (19, 11), (20, 19)]"
      ]
     },
     "execution_count": 62,
     "metadata": {},
     "output_type": "execute_result"
    }
   ],
   "source": [
    "path"
   ]
  }
 ],
 "metadata": {
  "kernelspec": {
   "display_name": "Python 3 (ipykernel)",
   "language": "python",
   "name": "python3"
  },
  "language_info": {
   "codemirror_mode": {
    "name": "ipython",
    "version": 3
   },
   "file_extension": ".py",
   "mimetype": "text/x-python",
   "name": "python",
   "nbconvert_exporter": "python",
   "pygments_lexer": "ipython3",
   "version": "3.8.8"
  }
 },
 "nbformat": 4,
 "nbformat_minor": 5
}
