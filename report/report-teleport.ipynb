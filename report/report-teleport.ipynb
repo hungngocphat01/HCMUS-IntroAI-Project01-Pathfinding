{
 "cells": [
  {
   "cell_type": "markdown",
   "metadata": {},
   "source": [
    "# Bản đồ có cổng dịch chuyển"
   ]
  },
  {
   "cell_type": "markdown",
   "metadata": {},
   "source": [
    "Ý TƯỞNG THỰC HIỆN:\n",
    "\n",
    "Nếu trong mê cung có cánh cổng đi từ điểm A đến B thì trên đồ thị chúng ta sẽ thêm một cạnh nối từ A đến B và gán trọng số cạnh đó bằng 1\n"
   ]
  }
 ],
 "metadata": {
  "language_info": {
   "name": "python"
  },
  "orig_nbformat": 4
 },
 "nbformat": 4,
 "nbformat_minor": 2
}
