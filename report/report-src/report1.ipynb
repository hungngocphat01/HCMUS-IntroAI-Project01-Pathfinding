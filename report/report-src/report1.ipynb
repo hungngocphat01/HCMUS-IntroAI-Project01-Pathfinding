{
 "cells": [
  {
   "cell_type": "markdown",
   "metadata": {},
   "source": [
    "# Giới thiệu \n",
    "\n",
    "## Về thành viên nhóm và phân công\n",
    "Nhóm có 2 thành viên:\n",
    "\n",
    "- **Lê Minh Phục (19120621):** hoàn thành các thuật toán tìm kiếm không điểm thưởng và viết báo cáo cho phần này.\n",
    "- **Hùng Ngọc Phát (19120615):** hoàn thành các thư viện bổ trợ và làm phần bản đồ có điểm thưởng và có cánh cổng. Thiết kế test cases.\n",
    "\n",
    "Mức độ hoàn thành của từng hạng mục\n",
    "\n",
    "| Hạng mục | Không điểm thưởng | Có điểm thưởng | Có cánh cổng |\n",
    "|----------|-------------------|----------------|--------------|\n",
    "| DFS      | 100%              | -              |              |\n",
    "| BFS      | 100%              | -              |              |\n",
    "| GBFS     | 100%              | 70%            | 60%          |\n",
    "| A*       | 100%              | 70%            | 60%          |\n",
    "\n",
    "## Về kiến trúc của chương trình, kiến trúc dữ liệu và processing pipeline\n",
    "\n",
    "### Kiến trúc chương trình\n",
    "\"Chương trình báo cáo\" này được viết bằng Jupyter Notebook để dễ dàng visualize các hình ảnh cũng như tiện lợi cho việc tính toán, sau đó được xuất sang $\\LaTeX$. Thầy có thể thử chạy lại notebook báo cáo này trong thư mục `report-src`.\n",
    "\n",
    "Chương trình gồm các lớp đối tượng sau:\n",
    "\n",
    "![](images/ClassDiagram1.jpg)\n",
    "\n",
    "Ghi chú: các \"class\" có gắn `<<module>>` không phải là class mà chỉ là tập hợp các hàm trong 1 file `*.py` (module)."
   ]
  },
  {
   "cell_type": "markdown",
   "metadata": {},
   "source": [
    "- `Node`: lớp đối tượng thể hiện một đỉnh (vertex) trên đồ thị.\n",
    "- `Stack`: lớp đối tượng ngăn xếp.\n",
    "- `Queue`: lớp đối tượng cho hàng đợi và hàng đợi ưu tiên.\n",
    "- `Graph`: lớp đối tượng cho một đồ thị được sinh ra từ mê cung.\n",
    "- `searching_algorithms`: module chứa các hàm cài đặt các thuật toán tìm kiếm.\n",
    "- `maze_preprocessor`: module chứa các hàm tiền xử lý mê cung.\n",
    "- `heuristic_func`: module chứa các hàm heuristic.\n",
    "- `teacher_util`: module chứa 2 hàm mà thầy cung cấp trong notebook.\n",
    "\n",
    "Các hàm tìm kiếm sẽ sử dụng lớp `Graph` để truy xuất các đỉnh kề, lấy, cập nhật các giá trị chi phí, ... mà không cần thao tác trực tiếp trên danh sách kề.\n",
    "\n",
    "Mỗi hàm nhóm em viết đều có một docstring mô tả input/output và chức năng. Thầy có thể tham khảo source code để biết thêm."
   ]
  },
  {
   "cell_type": "markdown",
   "metadata": {},
   "source": [
    "### Quá trình tiền xử lý mê cung \n",
    "\n",
    "- Để các thuật toán tìm kiếm đường đi có thể chạy được, ta cần chuyển đổi mê cung dưới dạng ASCII như trong file `txt` thành một đồ thị. Ở đây nhóm em đã quyết định chọn một danh sách kề để biểu diễn một đồ thị sinh ra từ mê cung. Về kiến trúc của các hàm em có để ở phần tài liệu tham khảo (còn về implementation và bổ sung trọng số thì của nhóm em tự làm).\n",
    "\n",
    "- Quá trình tiền xử lý mê cung được thực hiện bởi các hàm trong module `maze_preprocessor`, theo thứ tự sau:\n",
    "\n",
    "![](images/ActivityDiagram1.jpg)"
   ]
  },
  {
   "cell_type": "markdown",
   "metadata": {},
   "source": [
    "1. Đọc mê cung từ file ASCII.\n",
    "2. Lấy danh sách các ô trống & xác định tọa độ START & END.\n",
    "3. Thiết lập danh sách kề: quét các ô đi được đã tìm được ở trên và tìm các ô kề với nó, xây dựng nên một *hữu hướng* đơn đồ thị (có dạng lưới). Từ đó xây dựng được danh sách kề của đồ thị này. Có nghĩa là, đồ thị được sinh ra này có các đỉnh là các ô đi được trên mê cung (không chứa các ô tường).\n",
    "\n",
    "**Về trọng số các cạnh**:  \n",
    "\n",
    "- Với mê cung không điểm thưởng: đồ thị là vô hướng đơn đồ thị. Tất cả các cạnh có trọng số là 1.\n",
    "- Với mê cung có điểm thưởng: đồ thị là hữu hướng đa đồ thị. Cạnh nối 2 điểm không có điểm thưởng sẽ có giá trị bằng 1 ở cả 2 chiều. Cạnh nào nối vào đỉnh điểm thưởng thì trọng số sẽ được cộng với giá trị của điểm thưởng đó (giá trị điểm thưởng là âm)."
   ]
  }
 ],
 "metadata": {
  "authors": [
   {
    "name": "19120615 - Hùng Ngọc Phát"
   }
  ],
  "interpreter": {
   "hash": "3d597f4c481aa0f25dceb95d2a0067e73c0966dcbd003d741d821a7208527ecf"
  },
  "kernelspec": {
   "display_name": "Python 3 (ipykernel)",
   "language": "python",
   "name": "python3"
  },
  "language_info": {
   "codemirror_mode": {
    "name": "ipython",
    "version": 3
   },
   "file_extension": ".py",
   "mimetype": "text/x-python",
   "name": "python",
   "nbconvert_exporter": "python",
   "pygments_lexer": "ipython3",
   "version": "3.8.8"
  },
  "subject": "Cơ sở trí tuệ nhân tạo",
  "title": "Đồ án: Ứng dụng các thuật toán tìm kiếm"
 },
 "nbformat": 4,
 "nbformat_minor": 4
}
