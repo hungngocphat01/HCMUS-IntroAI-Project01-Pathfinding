{
 "cells": [
  {
   "cell_type": "markdown",
   "metadata": {},
   "source": [
    "# Giới thiệu \n",
    "\n",
    "## Về thành viên nhóm và phân công\n",
    "Nhóm có 2 thành viên\n",
    "\n",
    "| MSSV     | Tên            | Phân công                                                       |\n",
    "|----------|----------------|-----------------------------------------------------------------|\n",
    "| 19120615 | Hùng Ngọc Phát | Viết các thư viện xử lý đồ thị, cài đặt thuật toán GBFS và DFS. |\n",
    "| 19120621 | Lê Minh Phục   | Cài đặt thuật toán BFS và A*                                    | \n",
    "\n",
    "Mức độ hoàn thành của từng hạng mục\n",
    "\n",
    "| Hạng mục | Không điểm thưởng | Có điểm thưởng |\n",
    "|----------|-------------------|----------------|\n",
    "| GBFS     | 100%              | -              |\n",
    "| DFS      | 100%              | -              |\n",
    "| BFS      |                   |                |\n",
    "| A*       |                   |                |\n",
    "\n",
    "## Về kiến trúc của chương trình, kiến trúc dữ liệu và processing pipeline\n",
    "\n",
    "## Kiến trúc chương trình\n",
    "\"Chương trình báo cáo\" này được viết bằng Jupyter Notebook để dễ dàng visualize các hình ảnh cũng như tiện lợi cho việc tính toán, sau đó được xuất sang $\\LaTeX$. Thầy có thể thử chạy lại notebook báo cáo này trong thư mục `report-src`.\n",
    "\n",
    "Chương trình gồm các lớp đối tượng sau:\n",
    "\n",
    "![](images/ClassDiagram1.jpg)\n",
    "\n",
    "Ghi chú: các \"class\" có gắn `<<module>>` không phải là class mà chỉ là tập hợp các hàm trong 1 file `*.py` (module)."
   ]
  },
  {
   "cell_type": "markdown",
   "metadata": {},
   "source": [
    "- `Stack`: lớp đối tượng ngăn xếp.\n",
    "- `Queue`: lớp đối tượng cho hàng đợi và hàng đợi ưu tiên.\n",
    "- `Graph`: lớp đối tượng cho một đồ thị được sinh ra từ mê cung.\n",
    "- `maze_preprocessor`: module chứa các hàm tiền xử lý mê cung.\n",
    "- `heuristic_func`: module chứa các hàm heuristic.\n",
    "- `teacher_util`: module chứa 2 hàm mà thầy cung cấp trong notebook.\n",
    "\n",
    "Mỗi hàm nhóm em viết đều có một docstring mô tả input/output và chức năng. Thầy có thể tham khảo source code để biết thêm."
   ]
  },
  {
   "cell_type": "markdown",
   "metadata": {},
   "source": [
    "## Quá trình tiền xử lý mê cung \n",
    "\n",
    "- Để các thuật toán tìm kiếm đường đi có thể chạy được, ta cần chuyển đổi mê cung dưới dạng ASCII như trong file `txt` thành một đồ thị. Ở đây nhóm em đã quyết định chọn một ma trận kề để biểu diễn một đồ thị sinh ra từ mê cung.\n",
    "\n",
    "- Quá trình tiền xử lý mê cung được thực hiện bởi các hàm trong module `maze_preprocessor`, theo thứ tự sau:\n",
    "\n",
    "![](images/ActivityDiagram1.jpg)"
   ]
  },
  {
   "cell_type": "markdown",
   "metadata": {},
   "source": [
    "1. **Đọc mê cung từ file ASCII:** sử dụng hàm thầy đã cung cấp, đọc lên mê cung dưới dạng ASCII và danh sách các điểm thưởng.\n",
    "2. **Lấy danh sách các ô trống & xác định tọa độ START & END**: quét mê cung từ trên xuống dưới, từ trái sang phải để xác định các ô mà tác nhân \"có thể đi được\" (tức tất cả các ô mà không phải tường). Song song với đó trong lúc quét cũng xác định tọa độ của điểm START và END.\n",
    "3. **Đánh nhãn cho các điểm tọa độ**: vì mỗi ô đi được trên mê cung được biểu diễn bằng một tọa độ (1 cặp số). Vị chi mỗi cạnh của đồ thị cần 2 cặp số mới biểu diễn được. Tuy nhiên trên ma trận kề chỉ có thể sử dụng 1 cặp số để đánh dấu 1 cạnh. Đó là lý do nhóm em đã quyết định đánh số mỗi điểm tọa độ đi được thành 1 nhãn nguyên để thuận tiện hơn trong việc thiết lập ma trận kề. Sau khi tìm được đường đi trên ma trận kề có thể truy ngược lại tọa độ của chúng để truyền vào hàm `visualize_matrix` mà thầy đã cung cấp. Ví dụ như:\n",
    "\n",
    "![](images/labeling-example.jpg)\n",
    "\n",
    "4. **Thiết lập ma trận kề**: quét các ô đi được đã tìm được ở trên và tìm các ô kề với nó, xây dựng nên một hữu hướng đơn đồ thị (có dạng lưới). Từ đó xây dựng được ma trận kề của đồ thị này. Có nghĩa là, đồ thị được sinh ra này có các đỉnh là các ô đi được trên mê cung (không chứa các ô tường).\n",
    "\n",
    "**Về trọng số các cạnh**: cạnh nối 2 đỉnh \"thường\" (không có đỉnh nào là điểm thưởng) sẽ có trọng số mặc định là 50 (ở cả 2 chiều). Còn cạnh nối từ đỉnh \"thường\" vào đỉnh \"điểm thưởng\" sẽ có trọng số là 50 + mức điểm thưởng (điểm thưởng < 0, theo như file mẫu). Bằng cách này, các thuật toán mà có \"để ý\" đến trọng số nối giữa các cạnh (như A*) sẽ có thể một phần nào đó \"ăn\" được các điểm thưởng này nếu số lượng đủ nhiều và nằm rải rác trên đường đi từ START đến END."
   ]
  },
  {
   "cell_type": "code",
   "execution_count": null,
   "metadata": {},
   "outputs": [],
   "source": []
  }
 ],
 "metadata": {
  "authors": [
   {
    "name": "19120615 - Hùng Ngọc Phát"
   }
  ],
  "interpreter": {
   "hash": "3d597f4c481aa0f25dceb95d2a0067e73c0966dcbd003d741d821a7208527ecf"
  },
  "kernelspec": {
   "display_name": "Python 3 (ipykernel)",
   "language": "python",
   "name": "python3"
  },
  "language_info": {
   "codemirror_mode": {
    "name": "ipython",
    "version": 3
   },
   "file_extension": ".py",
   "mimetype": "text/x-python",
   "name": "python",
   "nbconvert_exporter": "python",
   "pygments_lexer": "ipython3",
   "version": "3.8.8"
  },
  "subject": "Khai thác dữ liệu và Ứng dụng",
  "title": "Báo cáo Lab01 - Tiền xử lý dữ liệu"
 },
 "nbformat": 4,
 "nbformat_minor": 4
}
