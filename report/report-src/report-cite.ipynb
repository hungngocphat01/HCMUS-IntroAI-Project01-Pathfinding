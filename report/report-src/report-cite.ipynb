{
 "cells": [
  {
   "cell_type": "markdown",
   "id": "0abd2ea0-5271-4f1f-9d80-085e9f989caf",
   "metadata": {},
   "source": [
    "# Tài liệu tham khảo\n",
    "\n",
    "1. Slide bài giảng và lecture note trên Moodle.\n",
    "2. From an ASCII Maze to an Adjacency List, \\url{https://mazes.readthedocs.io/en/latest/middle.html}\n",
    "3. A* search algorithm, \\url{https://en.wikipedia.org/wiki/A*_search_algorithm}\n",
    "4. Easy A star Pathfinding, \\url{https://medium.com/@nicholas.w.swift/easy-a-star-pathfinding-7e6689c7f7b2}\n",
    "5. Best First Search Algorithm in AI | Concept, Implementation, Advantages, Disadvantages, \\url{https://www.mygreatlearning.com/blog/best-first-search-bfs/}\n",
    "6. Shortest path in an unweighted graph,\\url{https://www.geeksforgeeks.org/shortest-path-unweighted-graph/}"
   ]
  }
 ],
 "metadata": {
  "kernelspec": {
   "display_name": "Python 3 (ipykernel)",
   "language": "python",
   "name": "python3"
  },
  "language_info": {
   "codemirror_mode": {
    "name": "ipython",
    "version": 3
   },
   "file_extension": ".py",
   "mimetype": "text/x-python",
   "name": "python",
   "nbconvert_exporter": "python",
   "pygments_lexer": "ipython3",
   "version": "3.8.8"
  }
 },
 "nbformat": 4,
 "nbformat_minor": 5
}
