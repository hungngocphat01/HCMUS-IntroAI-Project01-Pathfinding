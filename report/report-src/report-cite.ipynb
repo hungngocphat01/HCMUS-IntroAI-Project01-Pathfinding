{
 "cells": [
  {
   "cell_type": "markdown",
   "id": "0abd2ea0-5271-4f1f-9d80-085e9f989caf",
   "metadata": {},
   "source": [
    "# Tài liệu tham khảo\n",
    "\n",
    "1. Slide bài giảng và lecture note trên Moodle.\n",
    "2. From an ASCII Maze to an Adjacency List, \\url{https://mazes.readthedocs.io/en/latest/middle.html}\n",
    "3. A* search algorithm, \\url{https://en.wikipedia.org/wiki/A*_search_algorithm}"
   ]
  },
  {
   "cell_type": "code",
   "execution_count": null,
   "id": "68f336c7-4817-4451-851b-e9f26fa9837e",
   "metadata": {},
   "outputs": [],
   "source": []
  }
 ],
 "metadata": {
  "kernelspec": {
   "display_name": "Python 3 (ipykernel)",
   "language": "python",
   "name": "python3"
  },
  "language_info": {
   "codemirror_mode": {
    "name": "ipython",
    "version": 3
   },
   "file_extension": ".py",
   "mimetype": "text/x-python",
   "name": "python",
   "nbconvert_exporter": "python",
   "pygments_lexer": "ipython3",
   "version": "3.8.8"
  }
 },
 "nbformat": 4,
 "nbformat_minor": 5
}
