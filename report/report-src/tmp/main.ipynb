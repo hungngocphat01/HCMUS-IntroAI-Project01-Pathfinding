{
  "cells": [
    {
      "cell_type": "markdown",
      "metadata": {},
      "source": [
        "# Gi\u1edbi thi\u1ec7u \n",
        "\n",
        "## V\u1ec1 th\u00e0nh vi\u00ean nh\u00f3m v\u00e0 ph\u00e2n c\u00f4ng\n",
        "Nh\u00f3m c\u00f3 2 th\u00e0nh vi\u00ean\n",
        "\n",
        "M\u1ee9c \u0111\u1ed9 ho\u00e0n th\u00e0nh c\u1ee7a t\u1eebng h\u1ea1ng m\u1ee5c\n",
        "\n",
        "| H\u1ea1ng m\u1ee5c | Kh\u00f4ng \u0111i\u1ec3m th\u01b0\u1edfng | C\u00f3 \u0111i\u1ec3m th\u01b0\u1edfng |\n",
        "|----------|-------------------|----------------|\n",
        "| GBFS     | 100%              | -              |\n",
        "| DFS      | 100%              | -              |\n",
        "| BFS      |                   |                |\n",
        "| A*       |                   |                |\n",
        "\n",
        "## V\u1ec1 ki\u1ebfn tr\u00fac c\u1ee7a ch\u01b0\u01a1ng tr\u00ecnh, ki\u1ebfn tr\u00fac d\u1eef li\u1ec7u v\u00e0 processing pipeline\n",
        "\n",
        "## Ki\u1ebfn tr\u00fac ch\u01b0\u01a1ng tr\u00ecnh\n",
        "\"Ch\u01b0\u01a1ng tr\u00ecnh b\u00e1o c\u00e1o\" n\u00e0y \u0111\u01b0\u1ee3c vi\u1ebft b\u1eb1ng Jupyter Notebook \u0111\u1ec3 d\u1ec5 d\u00e0ng visualize c\u00e1c h\u00ecnh \u1ea3nh c\u0169ng nh\u01b0 ti\u1ec7n l\u1ee3i cho vi\u1ec7c t\u00ednh to\u00e1n, sau \u0111\u00f3 \u0111\u01b0\u1ee3c xu\u1ea5t sang $\\LaTeX$. Th\u1ea7y c\u00f3 th\u1ec3 th\u1eed ch\u1ea1y l\u1ea1i notebook b\u00e1o c\u00e1o n\u00e0y trong th\u01b0 m\u1ee5c `report-src`.\n",
        "\n",
        "Ch\u01b0\u01a1ng tr\u00ecnh g\u1ed3m c\u00e1c l\u1edbp \u0111\u1ed1i t\u01b0\u1ee3ng sau:\n",
        "\n",
        "![](images/ClassDiagram1.jpg)\n",
        "\n",
        "Ghi ch\u00fa: c\u00e1c \"class\" c\u00f3 g\u1eafn `<<module>>` kh\u00f4ng ph\u1ea3i l\u00e0 class m\u00e0 ch\u1ec9 l\u00e0 t\u1eadp h\u1ee3p c\u00e1c h\u00e0m trong 1 file `*.py` (module)."
      ]
    },
    {
      "cell_type": "markdown",
      "metadata": {},
      "source": [
        "- `Stack`: l\u1edbp \u0111\u1ed1i t\u01b0\u1ee3ng ng\u0103n x\u1ebfp.\n",
        "- `Queue`: l\u1edbp \u0111\u1ed1i t\u01b0\u1ee3ng cho h\u00e0ng \u0111\u1ee3i v\u00e0 h\u00e0ng \u0111\u1ee3i \u01b0u ti\u00ean.\n",
        "- `Graph`: l\u1edbp \u0111\u1ed1i t\u01b0\u1ee3ng cho m\u1ed9t \u0111\u1ed3 th\u1ecb \u0111\u01b0\u1ee3c sinh ra t\u1eeb m\u00ea cung.\n",
        "- `maze_preprocessor`: module ch\u1ee9a c\u00e1c h\u00e0m ti\u1ec1n x\u1eed l\u00fd m\u00ea cung.\n",
        "- `heuristic_func`: module ch\u1ee9a c\u00e1c h\u00e0m heuristic.\n",
        "- `teacher_util`: module ch\u1ee9a 2 h\u00e0m m\u00e0 th\u1ea7y cung c\u1ea5p trong notebook.\n",
        "\n",
        "M\u1ed7i h\u00e0m nh\u00f3m em vi\u1ebft \u0111\u1ec1u c\u00f3 m\u1ed9t docstring m\u00f4 t\u1ea3 input/output v\u00e0 ch\u1ee9c n\u0103ng. Th\u1ea7y c\u00f3 th\u1ec3 tham kh\u1ea3o source code \u0111\u1ec3 bi\u1ebft th\u00eam."
      ]
    },
    {
      "cell_type": "markdown",
      "metadata": {},
      "source": [
        "## Qu\u00e1 tr\u00ecnh ti\u1ec1n x\u1eed l\u00fd m\u00ea cung \n",
        "\n",
        "- \u0110\u1ec3 c\u00e1c thu\u1eadt to\u00e1n t\u00ecm ki\u1ebfm \u0111\u01b0\u1eddng \u0111i c\u00f3 th\u1ec3 ch\u1ea1y \u0111\u01b0\u1ee3c, ta c\u1ea7n chuy\u1ec3n \u0111\u1ed5i m\u00ea cung d\u01b0\u1edbi d\u1ea1ng ASCII nh\u01b0 trong file `txt` th\u00e0nh m\u1ed9t \u0111\u1ed3 th\u1ecb. \u1ede \u0111\u00e2y nh\u00f3m em \u0111\u00e3 quy\u1ebft \u0111\u1ecbnh ch\u1ecdn m\u1ed9t ma tr\u1eadn k\u1ec1 \u0111\u1ec3 bi\u1ec3u di\u1ec5n m\u1ed9t \u0111\u1ed3 th\u1ecb sinh ra t\u1eeb m\u00ea cung.\n",
        "\n",
        "- Qu\u00e1 tr\u00ecnh ti\u1ec1n x\u1eed l\u00fd m\u00ea cung \u0111\u01b0\u1ee3c th\u1ef1c hi\u1ec7n b\u1edfi c\u00e1c h\u00e0m trong module `maze_preprocessor`, theo th\u1ee9 t\u1ef1 sau:\n",
        "\n",
        "![](images/ActivityDiagram1.jpg)"
      ]
    },
    {
      "cell_type": "markdown",
      "metadata": {},
      "source": [
        "1. **\u0110\u1ecdc m\u00ea cung t\u1eeb file ASCII:** s\u1eed d\u1ee5ng h\u00e0m th\u1ea7y \u0111\u00e3 cung c\u1ea5p, \u0111\u1ecdc l\u00ean m\u00ea cung d\u01b0\u1edbi d\u1ea1ng ASCII v\u00e0 danh s\u00e1ch c\u00e1c \u0111i\u1ec3m th\u01b0\u1edfng.\n",
        "2. **L\u1ea5y danh s\u00e1ch c\u00e1c \u00f4 tr\u1ed1ng & x\u00e1c \u0111\u1ecbnh t\u1ecda \u0111\u1ed9 START & END**: qu\u00e9t m\u00ea cung t\u1eeb tr\u00ean xu\u1ed1ng d\u01b0\u1edbi, t\u1eeb tr\u00e1i sang ph\u1ea3i \u0111\u1ec3 x\u00e1c \u0111\u1ecbnh c\u00e1c \u00f4 m\u00e0 t\u00e1c nh\u00e2n \"c\u00f3 th\u1ec3 \u0111i \u0111\u01b0\u1ee3c\" (t\u1ee9c t\u1ea5t c\u1ea3 c\u00e1c \u00f4 m\u00e0 kh\u00f4ng ph\u1ea3i t\u01b0\u1eddng). Song song v\u1edbi \u0111\u00f3 trong l\u00fac qu\u00e9t c\u0169ng x\u00e1c \u0111\u1ecbnh t\u1ecda \u0111\u1ed9 c\u1ee7a \u0111i\u1ec3m START v\u00e0 END.\n",
        "3. **\u0110\u00e1nh nh\u00e3n cho c\u00e1c \u0111i\u1ec3m t\u1ecda \u0111\u1ed9**: v\u00ec m\u1ed7i \u00f4 \u0111i \u0111\u01b0\u1ee3c tr\u00ean m\u00ea cung \u0111\u01b0\u1ee3c bi\u1ec3u di\u1ec5n b\u1eb1ng m\u1ed9t t\u1ecda \u0111\u1ed9 (1 c\u1eb7p s\u1ed1). V\u1ecb chi m\u1ed7i c\u1ea1nh c\u1ee7a \u0111\u1ed3 th\u1ecb c\u1ea7n 2 c\u1eb7p s\u1ed1 m\u1edbi bi\u1ec3u di\u1ec5n \u0111\u01b0\u1ee3c. Tuy nhi\u00ean tr\u00ean ma tr\u1eadn k\u1ec1 ch\u1ec9 c\u00f3 th\u1ec3 s\u1eed d\u1ee5ng 1 c\u1eb7p s\u1ed1 \u0111\u1ec3 \u0111\u00e1nh d\u1ea5u 1 c\u1ea1nh. \u0110\u00f3 l\u00e0 l\u00fd do nh\u00f3m em \u0111\u00e3 quy\u1ebft \u0111\u1ecbnh \u0111\u00e1nh s\u1ed1 m\u1ed7i \u0111i\u1ec3m t\u1ecda \u0111\u1ed9 \u0111i \u0111\u01b0\u1ee3c th\u00e0nh 1 nh\u00e3n nguy\u00ean \u0111\u1ec3 thu\u1eadn ti\u1ec7n h\u01a1n trong vi\u1ec7c thi\u1ebft l\u1eadp ma tr\u1eadn k\u1ec1. Sau khi t\u00ecm \u0111\u01b0\u1ee3c \u0111\u01b0\u1eddng \u0111i tr\u00ean ma tr\u1eadn k\u1ec1 c\u00f3 th\u1ec3 truy ng\u01b0\u1ee3c l\u1ea1i t\u1ecda \u0111\u1ed9 c\u1ee7a ch\u00fang \u0111\u1ec3 truy\u1ec1n v\u00e0o h\u00e0m `visualize_matrix` m\u00e0 th\u1ea7y \u0111\u00e3 cung c\u1ea5p. V\u00ed d\u1ee5 nh\u01b0:\n",
        "\n",
        "![](images/labeling-example.jpg)\n",
        "\n",
        "4. **Thi\u1ebft l\u1eadp ma tr\u1eadn k\u1ec1**: qu\u00e9t c\u00e1c \u00f4 \u0111i \u0111\u01b0\u1ee3c \u0111\u00e3 t\u00ecm \u0111\u01b0\u1ee3c \u1edf tr\u00ean v\u00e0 t\u00ecm c\u00e1c \u00f4 k\u1ec1 v\u1edbi n\u00f3, x\u00e2y d\u1ef1ng n\u00ean m\u1ed9t h\u1eefu h\u01b0\u1edbng \u0111\u01a1n \u0111\u1ed3 th\u1ecb (c\u00f3 d\u1ea1ng l\u01b0\u1edbi). T\u1eeb \u0111\u00f3 x\u00e2y d\u1ef1ng \u0111\u01b0\u1ee3c ma tr\u1eadn k\u1ec1 c\u1ee7a \u0111\u1ed3 th\u1ecb n\u00e0y. C\u00f3 ngh\u0129a l\u00e0, \u0111\u1ed3 th\u1ecb \u0111\u01b0\u1ee3c sinh ra n\u00e0y c\u00f3 c\u00e1c \u0111\u1ec9nh l\u00e0 c\u00e1c \u00f4 \u0111i \u0111\u01b0\u1ee3c tr\u00ean m\u00ea cung (kh\u00f4ng ch\u1ee9a c\u00e1c \u00f4 t\u01b0\u1eddng).\n",
        "\n",
        "**V\u1ec1 tr\u1ecdng s\u1ed1 c\u00e1c c\u1ea1nh**: c\u1ea1nh n\u1ed1i 2 \u0111\u1ec9nh \"th\u01b0\u1eddng\" (kh\u00f4ng c\u00f3 \u0111\u1ec9nh n\u00e0o l\u00e0 \u0111i\u1ec3m th\u01b0\u1edfng) s\u1ebd c\u00f3 tr\u1ecdng s\u1ed1 m\u1eb7c \u0111\u1ecbnh l\u00e0 50 (\u1edf c\u1ea3 2 chi\u1ec1u). C\u00f2n c\u1ea1nh n\u1ed1i t\u1eeb \u0111\u1ec9nh \"th\u01b0\u1eddng\" v\u00e0o \u0111\u1ec9nh \"\u0111i\u1ec3m th\u01b0\u1edfng\" s\u1ebd c\u00f3 tr\u1ecdng s\u1ed1 l\u00e0 50 + m\u1ee9c \u0111i\u1ec3m th\u01b0\u1edfng (\u0111i\u1ec3m th\u01b0\u1edfng < 0, theo nh\u01b0 file m\u1eabu). B\u1eb1ng c\u00e1ch n\u00e0y, c\u00e1c thu\u1eadt to\u00e1n m\u00e0 c\u00f3 \"\u0111\u1ec3 \u00fd\" \u0111\u1ebfn tr\u1ecdng s\u1ed1 n\u1ed1i gi\u1eefa c\u00e1c c\u1ea1nh (nh\u01b0 A*) s\u1ebd c\u00f3 th\u1ec3 m\u1ed9t ph\u1ea7n n\u00e0o \u0111\u00f3 \"\u0103n\" \u0111\u01b0\u1ee3c c\u00e1c \u0111i\u1ec3m th\u01b0\u1edfng n\u00e0y n\u1ebfu s\u1ed1 l\u01b0\u1ee3ng \u0111\u1ee7 nhi\u1ec1u v\u00e0 n\u1eb1m r\u1ea3i r\u00e1c tr\u00ean \u0111\u01b0\u1eddng \u0111i t\u1eeb START \u0111\u1ebfn END."
      ]
    },
    {
      "cell_type": "code",
      "execution_count": null,
      "metadata": {},
      "outputs": [],
      "source": []
    },
    {
      "cell_type": "markdown",
      "metadata": {},
      "source": [
        "# T\u00e0i li\u1ec7u tham kh\u1ea3o\n",
        "\n",
        "1. Slide b\u00e0i gi\u1ea3ng v\u00e0 lecture note tr\u00ean Moodle.\n",
        "2. From an ASCII Maze to an Adjacency List, \\url{https://mazes.readthedocs.io/en/latest/middle.html}"
      ]
    }
  ],
  "metadata": {
    "authors": [
      {
        "name": "19120615 - H\u00f9ng Ng\u1ecdc Ph\u00e1t"
      }
    ],
    "interpreter": {
      "hash": "3d597f4c481aa0f25dceb95d2a0067e73c0966dcbd003d741d821a7208527ecf"
    },
    "kernelspec": {
      "display_name": "Python 3 (ipykernel)",
      "language": "python",
      "name": "python3"
    },
    "language_info": {
      "codemirror_mode": {
        "name": "ipython",
        "version": 3
      },
      "file_extension": ".py",
      "mimetype": "text/x-python",
      "name": "python",
      "nbconvert_exporter": "python",
      "pygments_lexer": "ipython3",
      "version": "3.8.8"
    },
    "subject": "C\u01a1 s\u1edf tr\u00ed tu\u1ec7 nh\u00e2n t\u1ea1o",
    "title": "\u0110\u1ed3 \u00e1n: \u1ee8ng d\u1ee5ng c\u00e1c thu\u1eadt to\u00e1n t\u00ecm ki\u1ebfm"
  },
  "nbformat": 4,
  "nbformat_minor": 4
}
