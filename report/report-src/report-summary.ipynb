{
 "cells": [
  {
   "cell_type": "markdown",
   "id": "2701eb0d-2ae5-4a24-87de-1353917dd4cf",
   "metadata": {},
   "source": [
    "# Đánh giá các thuật toán\n",
    "\n",
    "## Greedy Best First Search\n",
    "- **Mô tả ngắn gọn**: GBFS là thuật toán tìm kiếm bằng cách mở node kề *có chi phí heuristic thấp nhất* (tham lam), tương ứng với node mà nó nghĩ là gần đích nhất.\n",
    "- **Fringe**: fringe của GBFS là một hàng đợi ưu tiên. Chi phí đường đi được xác định bằng khoảng cách từ node đang xét đến node đích (heuristic) $f(x) = h(x)$."
   ]
  }
 ],
 "metadata": {
  "kernelspec": {
   "display_name": "Python 3 (ipykernel)",
   "language": "python",
   "name": "python3"
  },
  "language_info": {
   "codemirror_mode": {
    "name": "ipython",
    "version": 3
   },
   "file_extension": ".py",
   "mimetype": "text/x-python",
   "name": "python",
   "nbconvert_exporter": "python",
   "pygments_lexer": "ipython3",
   "version": "3.8.8"
  }
 },
 "nbformat": 4,
 "nbformat_minor": 5
}
