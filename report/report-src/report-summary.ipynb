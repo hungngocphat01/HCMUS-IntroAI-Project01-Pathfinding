{
 "cells": [
  {
   "cell_type": "markdown",
   "id": "2701eb0d-2ae5-4a24-87de-1353917dd4cf",
   "metadata": {},
   "source": [
    "# Đánh giá các thuật toán\n",
    "\n",
    "Tụi em nghĩ rằng tụi em không cần trình bày lại tất cả các đặc điểm của từng thuật toán, vì trong đề không có nói rõ ràng lắm về mục này, nên ở đây tụi em chỉ nên những nhận xét của bản thân kết hợp với các đặc điểm được nêu trong tài liệu khi quan sát kết quả output của các thuật toán tìm kiếm.\n",
    "\n",
    "## Trường hợp không điểm thưởng\n",
    "\n",
    "- **Depth-First Search**: luôn luôn cố gắng mở rộng ô sâu nhất có thể (fringe là stack). Nếu bản đồ thông thoáng, nó sẽ chạy qua chạy lại trên bản đồ (như ở các bản đồ không điểm thưởng số 1, 2, 3). Lúc này nó giống như là *\"Drunk-First Search\"*. DFS chỉ có thể tìm được đường đi chứ không phải là đường đi ngắn nhất. Nếu trên đồ thị có chu trình thì có khả năng nó sẽ bị lọt vào một vòng lặp không hồi kết, và thuật toán sẽ không bao giờ dừng, do đó DFS là không hoàn chỉnh. Ngoài ra, nó cũng không tối ưu (do nó không quan tâm đến trọng số trên đường đi).\n",
    "\n",
    "- **Breadth-First Search**: luôn luôn cố gắng mở rộng ô nông nhất có thể (fringe là queue). BFS luôn tìm được đường đi nếu đường đi này có tồn tại (có nghĩa cây tìm kiếm có chiều sâu hữu hạn), do đó nó là *hoàn chỉnh*. Nếu chi phí đường đi là bằng nhau, nó sẽ luôn tìm được đường đi ngắn nhất (lúc này nó trở thành một trường hợp đặc biệt của UCS, và lúc này nó sẽ vừa *hoàn chỉnh và tối ưu*). Nếu bản đồ trống nhiều và khoảng cách giữa điểm đầu và điểm đích xa, nó sẽ phải mở rộng rất nhiều ô. Trong hầu hết các trường hợp đã trình bày, BFS luôn luôn duyệt tất cả các ô trong bản đồ.\n",
    "\n",
    "2 thuật toán trên chỉ có thể \"mò\" đường đi đến đích mà không có được cái nhìn tổng quan về bản đồ.\n",
    "\n",
    "- **Greedy Best-First Search**: luôn luôn mở rộng ô mà có trị số heuristic thấp nhất, là vị trí mà nó tin là gần đích nhất (fringe là priority queue). GBFS là không hoàn chỉnh cũng như tối ưu, đặc biệt nếu hàm heuristic được chọn không tốt, nó sẽ đi sai hướng rất nhiều, đi vào các ô mà nó tin rằng là gần đích nhưng thực ra không phải. Nhìn chung hành vi của GBFS khá là khó đoán. Nhưng GBFS cũng có tốc độ thực thi khá nhanh vì nó không mở rộng quá nhiều ô.\n",
    "\n",
    "- **A\\***: luôn luôn mở rộng ô mà có trị số heuristic thấp nhất, là vị trí mà nó tin là có *tổng chi phí* ngắn nhất (fringe là priority queue), với tổng chi phí là tổng chi phí trên toàn bộ đường đi từ điểm đầu đến điểm kết thúc. A* là sự kết hợp tuyệt vời giữa UCS và Greedy. A* vừa hoàn chỉnh vừa tối ưu, có nghĩa là nó luôn luôn tìm được đường đi ngắn nhất nếu có tồn tại, nếu hàm heuristic được chọn là phù hợp. \n",
    "\n",
    "## Trường hợp có điểm thưởng\n",
    "\n",
    "Với ý tưởng của nhóm thì các điểm thưởng được biểu diễn bằng các cạnh có trọng số âm (do đó A* sẽ biết được đường đi nào là ngắn hơn). Tuy nhiên, A* lại không được sinh ra cho các đồ thị có trọng số âm. Lúc này heuristic của A* sẽ trở nên không nhất quán, vì nếu có cạnh có trọng số âm, sẽ tồn tại một đường đi làm $f(n)$ giảm. Lúc này A* đột nhiên trở nên không tối ưu (!!), do đó thuật toán trong trường hợp này không còn là A* nữa (??). Tuy nhiên hiện tại thì tụi em chưa nghĩ ra được phương pháp để khắc phục điều này."
   ]
  }
 ],
 "metadata": {
  "kernelspec": {
   "display_name": "Python 3 (ipykernel)",
   "language": "python",
   "name": "python3"
  },
  "language_info": {
   "codemirror_mode": {
    "name": "ipython",
    "version": 3
   },
   "file_extension": ".py",
   "mimetype": "text/x-python",
   "name": "python",
   "nbconvert_exporter": "python",
   "pygments_lexer": "ipython3",
   "version": "3.8.8"
  }
 },
 "nbformat": 4,
 "nbformat_minor": 5
}
