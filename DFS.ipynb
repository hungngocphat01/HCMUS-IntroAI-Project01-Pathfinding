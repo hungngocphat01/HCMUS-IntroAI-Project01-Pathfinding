{
 "cells": [
  {
   "cell_type": "code",
   "execution_count": 7,
   "id": "d7b56008-0c37-4844-ad69-56ff73abc7dc",
   "metadata": {},
   "outputs": [],
   "source": [
    "from Graph import Graph\n",
    "from Stack import Stack\n",
    "from heuristic_func import *"
   ]
  },
  {
   "cell_type": "code",
   "execution_count": 8,
   "id": "84bdb97c-e0b8-46c5-acf1-08ee925c41ac",
   "metadata": {},
   "outputs": [
    {
     "data": {
      "image/png": "[encoded data removed]",
      "text/plain": [
       "<Figure size 600x400 with 1 Axes>"
      ]
     },
     "metadata": {},
     "output_type": "display_data"
    },
    {
     "name": "stdout",
     "output_type": "stream",
     "text": [
      "Starting point (x, y) = (9, 20)\n",
      "Ending point (x, y) = (10, 15)\n"
     ]
    }
   ],
   "source": [
    "g = Graph('maze_test.txt')\n",
    "g.visualize()"
   ]
  },
  {
   "cell_type": "code",
   "execution_count": 9,
   "id": "bd7f82e8-fee6-42b9-b9e8-c5808febd40b",
   "metadata": {},
   "outputs": [],
   "source": [
    "def DFS(graph: Graph, hf, custom_start=None, custom_end=None):\n",
    "    \"\"\"\n",
    "    Hàm tìm kiếm theo giải thuật Deep First Search. Các tham số:\n",
    "    - `graph`: đồ thị cần tìm kiếm.\n",
    "    - `hf`: con trỏ đến hàm heuristics.\n",
    "    `hf` phải có signature như sau: `hf(label1, label2, label_to_coord)`, trả về chi phí từ label1 đến label2.\n",
    "    - `custom_start`: nhãn bắt đầu tùy chỉnh. Nếu không có thì lấy nhãn bắt đầu của đồ thị truyền vào.\n",
    "    - `custom_end`: nhãn kết thúc tùy chỉnh. Hành xử tương tự như trên.\n",
    "    \"\"\"\n",
    "    \n",
    "    # Kiểm tra người dùng có specify điểm bắt đầu và kết thúc tùy chỉnh hay không\n",
    "    start_label = custom_start if custom_start else graph.start_label\n",
    "    end_label = custom_end if custom_start else graph.end_label\n",
    "    \n",
    "    # Bộ nhớ fringe cho DFS là một stack\n",
    "    fringe = Stack()\n",
    "    \n",
    "    # Dictionary để truy ngược các node đã viếng (dưới dạng \"giả\" một DSLK đơn)\n",
    "    visited = {start_label: None}\n",
    "    \n",
    "    # Gắn node bắt đầu vào hàng đợi với chi phí 0\n",
    "    fringe.push(start_label, 0)\n",
    "    \n",
    "    while not fringe.is_empty():\n",
    "        # Lấy ra node kế trong stack\n",
    "        current_node, _ = fringe.pop()\n",
    "        \n",
    "        # Lấy ra danh sách các đỉnh kề với node này\n",
    "        successors = graph.get_successor(current_node)\n",
    "        # Nếu là dead end: bỏ qua node này và không đụng tới nữa\n",
    "        if len(successors) == 0:\n",
    "            fringe.pop()\n",
    "            continue\n",
    "        \n",
    "        # Kiểm tra từng node kế\n",
    "        for succ_node, _ in successors:\n",
    "            # Kiểm tra xem node đã viếng chưa. Nếu chưa thì thêm vào danh sách\n",
    "            if succ_node not in visited:\n",
    "                visited[succ_node] = current_node\n",
    "                fringe.push(succ_node, 0)\n",
    "                \n",
    "            # Nếu node kế là đích đến: ồ yeah\n",
    "            if succ_node == end_label:\n",
    "                return visited\n",
    "            \n",
    "    return None\n",
    "    "
   ]
  },
  {
   "cell_type": "code",
   "execution_count": 13,
   "id": "fea18584-8119-4506-a51f-dbaf8f23f65e",
   "metadata": {},
   "outputs": [
    {
     "name": "stdout",
     "output_type": "stream",
     "text": [
      "CPU times: user 368 µs, sys: 0 ns, total: 368 µs\n",
      "Wall time: 427 µs\n"
     ]
    }
   ],
   "source": [
    "%time backtracking = DFS(g, euclide_heuristic)"
   ]
  },
  {
   "cell_type": "code",
   "execution_count": 14,
   "id": "773d2100-9769-474f-9399-e78ce28272ed",
   "metadata": {},
   "outputs": [],
   "source": [
    "labeled_path = g.backtrack(backtracking)"
   ]
  },
  {
   "cell_type": "code",
   "execution_count": 15,
   "id": "436345f3-fc26-4953-9baa-e1c3e7a5416a",
   "metadata": {},
   "outputs": [],
   "source": [
    "coord_path = g.convert_path_to_coord(labeled_path)"
   ]
  },
  {
   "cell_type": "code",
   "execution_count": 16,
   "id": "1c97b179-3623-492e-bb1a-3b7636721ba1",
   "metadata": {},
   "outputs": [
    {
     "data": {
      "image/png": "[encoded data removed]",
      "text/plain": [
       "<Figure size 600x400 with 1 Axes>"
      ]
     },
     "metadata": {},
     "output_type": "display_data"
    },
    {
     "name": "stdout",
     "output_type": "stream",
     "text": [
      "Starting point (x, y) = (9, 20)\n",
      "Ending point (x, y) = (10, 15)\n"
     ]
    }
   ],
   "source": [
    "g.visualize(coord_path)"
   ]
  },
  {
   "cell_type": "code",
   "execution_count": null,
   "id": "ca93f49c-6a98-4de6-9411-7d01d9519a50",
   "metadata": {},
   "outputs": [],
   "source": []
  }
 ],
 "metadata": {
  "kernelspec": {
   "display_name": "Python 3 (ipykernel)",
   "language": "python",
   "name": "python3"
  },
  "language_info": {
   "codemirror_mode": {
    "name": "ipython",
    "version": 3
   },
   "file_extension": ".py",
   "mimetype": "text/x-python",
   "name": "python",
   "nbconvert_exporter": "python",
   "pygments_lexer": "ipython3",
   "version": "3.8.8"
  }
 },
 "nbformat": 4,
 "nbformat_minor": 5
}
