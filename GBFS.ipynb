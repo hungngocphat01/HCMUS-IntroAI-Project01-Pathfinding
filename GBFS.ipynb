{
 "cells": [
  {
   "cell_type": "code",
   "execution_count": 1,
   "id": "ec67c143-4aee-4e0f-8f08-ac8629921490",
   "metadata": {},
   "outputs": [],
   "source": [
    "from Graph import Graph\n",
    "from PriorityQueue import PriorityQueue\n",
    "from heuristic_func import *"
   ]
  },
  {
   "cell_type": "code",
   "execution_count": 2,
   "id": "2bffeec2-9305-45ef-aa5d-f8fac6082d6d",
   "metadata": {},
   "outputs": [],
   "source": [
    "g = Graph('maze_map.txt')"
   ]
  },
  {
   "cell_type": "code",
   "execution_count": 3,
   "id": "c4c1bf41-ea9f-4f77-9631-ad3aa6da00c7",
   "metadata": {},
   "outputs": [],
   "source": [
    "def GBFS(graph: Graph, hf):\n",
    "    \"\"\"\n",
    "    Hàm tìm kiếm theo giải thuật Greedy Best First Search. Các tham số:\n",
    "    - `graph`: đồ thị cần tìm kiếm.\n",
    "    - `hf`: con trỏ đến hàm heuristics.\n",
    "    `hf` phải có signature như sau: `hf(label1, label2, label_to_coord)`, trả về chi phí từ label1 đến label2.\n",
    "    \"\"\"\n",
    "    \n",
    "    # Hàng đợi ưu tiên\n",
    "    fringe = PriorityQueue()\n",
    "    \n",
    "    # Khởi tạo danh sách track các node kề trước trong đường đi đến đích \n",
    "    # Format: {succ_node: prev_node}\n",
    "    # Cũng là tập các đỉnh đã viếng thăm\n",
    "    visited = {graph.start_label: None}\n",
    "    \n",
    "    # Gắn node bắt đầu vào hàng đợi với chi phí 0\n",
    "    fringe.push(graph.start_label, 0)\n",
    "    \n",
    "    while not fringe.is_empty():\n",
    "        # Lấy ra node có chi phí thấp nhất\n",
    "        current_node, current_cost = fringe.pop()\n",
    "        \n",
    "        # Lấy ra danh sách các đỉnh kề với node này\n",
    "        successors = graph.get_successor(current_node)\n",
    "        \n",
    "        # Kiểm tra từng node kế \n",
    "        for succ_node, _ in successors:\n",
    "            # Kiểm tra xem node đã viếng chưa. Nếu chưa thì thêm vào fringe\n",
    "            if succ_node not in visited:\n",
    "                visited[succ_node] = current_node\n",
    "                heuristic_cost = hf(succ_node, g.end_label, g.label_to_coord)\n",
    "                fringe.push(succ_node, heuristic_cost)\n",
    "                \n",
    "            # Nếu node kế là đích đến: ồ yeah\n",
    "            if succ_node == g.end_label:\n",
    "                return visited\n",
    "            \n",
    "    return None"
   ]
  },
  {
   "cell_type": "code",
   "execution_count": 4,
   "id": "517a5073-a3f6-4403-bb66-b6518938eb26",
   "metadata": {},
   "outputs": [
    {
     "data": {
      "image/png": "[encoded data removed]",
      "text/plain": [
       "<Figure size 600x400 with 1 Axes>"
      ]
     },
     "metadata": {},
     "output_type": "display_data"
    },
    {
     "name": "stdout",
     "output_type": "stream",
     "text": [
      "Starting point (x, y) = (8, 15)\n",
      "Ending point (x, y) = (4, 0)\n",
      "Bonus point at position (x, y) = (3, 6) with point -3\n",
      "Bonus point at position (x, y) = (5, 14) with point -1\n"
     ]
    }
   ],
   "source": [
    "g.visualize()"
   ]
  },
  {
   "cell_type": "code",
   "execution_count": 5,
   "id": "9ece1484-0e94-4c5f-b7a4-3f34150ace55",
   "metadata": {},
   "outputs": [],
   "source": [
    "# Danh sách truy ngược đường đi\n",
    "backtracking = GBFS(g, euclide_heuristic)"
   ]
  },
  {
   "cell_type": "code",
   "execution_count": 6,
   "id": "9d66521e-66fd-46c8-bd7e-c67d0ca99ad8",
   "metadata": {},
   "outputs": [],
   "source": [
    "# Danh sách các nhãn của đường đi\n",
    "labeled_path = g.backtrack(backtracking)"
   ]
  },
  {
   "cell_type": "code",
   "execution_count": 8,
   "id": "17e71cb7-b981-451b-8090-019a09a92f74",
   "metadata": {},
   "outputs": [],
   "source": [
    "# Danh sách các tọa độ của đường đi\n",
    "coord_path = g.convert_path_to_coord(labeled_path)"
   ]
  },
  {
   "cell_type": "code",
   "execution_count": 9,
   "id": "89694e09-d76d-4d52-95bb-c3a6cf9ae1d9",
   "metadata": {},
   "outputs": [
    {
     "data": {
      "image/png": "[encoded data removed]",
      "text/plain": [
       "<Figure size 600x400 with 1 Axes>"
      ]
     },
     "metadata": {},
     "output_type": "display_data"
    },
    {
     "name": "stdout",
     "output_type": "stream",
     "text": [
      "Starting point (x, y) = (8, 15)\n",
      "Ending point (x, y) = (4, 0)\n",
      "Bonus point at position (x, y) = (3, 6) with point -3\n",
      "Bonus point at position (x, y) = (5, 14) with point -1\n"
     ]
    }
   ],
   "source": [
    "g.visualize(coord_path)"
   ]
  }
 ],
 "metadata": {
  "interpreter": {
   "hash": "4e4c2c0f6b2085336f04bbfd7596f27c933c26eefbcd6d47580db8892027b1de"
  },
  "kernelspec": {
   "display_name": "Python 3 (ipykernel)",
   "language": "python",
   "name": "python3"
  },
  "language_info": {
   "codemirror_mode": {
    "name": "ipython",
    "version": 3
   },
   "file_extension": ".py",
   "mimetype": "text/x-python",
   "name": "python",
   "nbconvert_exporter": "python",
   "pygments_lexer": "ipython3",
   "version": "3.8.8"
  }
 },
 "nbformat": 4,
 "nbformat_minor": 5
}
