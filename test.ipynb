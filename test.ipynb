{
 "cells": [
  {
   "cell_type": "code",
   "execution_count": 2,
   "metadata": {},
   "outputs": [],
   "source": [
    "from maze_preprocess import preprocess_maze\n",
    "from teacher_utils import read_file"
   ]
  },
  {
   "cell_type": "code",
   "execution_count": 3,
   "metadata": {},
   "outputs": [],
   "source": [
    "bonus_points, matrix = read_file('maze_map.txt')"
   ]
  },
  {
   "cell_type": "code",
   "execution_count": 4,
   "metadata": {},
   "outputs": [],
   "source": [
    "out = preprocess_maze(matrix, bonus_points)"
   ]
  },
  {
   "cell_type": "code",
   "execution_count": 5,
   "metadata": {},
   "outputs": [],
   "source": [
    "# Ma trận kề:\n",
    "adj_matrix = out['adj_matrix']\n",
    "# Tọa độ điểm bắt đầu & kết thúc:\n",
    "start = out['start']\n",
    "end = out['end']\n",
    "# Các dictionary ánh xạ từ tọa độ sang nhãn trên đồ thị và ngược lại\n",
    "coord_to_label = out['coord_to_label']\n",
    "label_to_coord = out['label_to_coord']"
   ]
  },
  {
   "cell_type": "code",
   "execution_count": 8,
   "metadata": {},
   "outputs": [
    {
     "data": {
      "text/plain": [
       "((8, 15), (4, 0))"
      ]
     },
     "execution_count": 8,
     "metadata": {},
     "output_type": "execute_result"
    }
   ],
   "source": [
    "start, end"
   ]
  },
  {
   "cell_type": "code",
   "execution_count": 9,
   "metadata": {},
   "outputs": [
    {
     "data": {
      "text/plain": [
       "{(1, 1): 0,\n",
       " (1, 2): 1,\n",
       " (1, 3): 2,\n",
       " (1, 5): 3,\n",
       " (1, 6): 4,\n",
       " (1, 7): 5,\n",
       " (1, 10): 6,\n",
       " (1, 13): 7,\n",
       " (1, 14): 8,\n",
       " (1, 15): 9,\n",
       " (1, 16): 10,\n",
       " (1, 17): 11,\n",
       " (1, 18): 12,\n",
       " (1, 19): 13,\n",
       " (1, 20): 14,\n",
       " (2, 1): 15,\n",
       " (2, 2): 16,\n",
       " (2, 3): 17,\n",
       " (2, 4): 18,\n",
       " (2, 5): 19,\n",
       " (2, 7): 20,\n",
       " (2, 8): 21,\n",
       " (2, 9): 22,\n",
       " (2, 10): 23,\n",
       " (2, 11): 24,\n",
       " (3, 1): 25,\n",
       " (3, 3): 26,\n",
       " (3, 4): 27,\n",
       " (3, 5): 28,\n",
       " (3, 6): 29,\n",
       " (3, 9): 30,\n",
       " (3, 10): 31,\n",
       " (3, 15): 32,\n",
       " (3, 19): 33,\n",
       " (4, 0): 34,\n",
       " (4, 1): 35,\n",
       " (4, 3): 36,\n",
       " (4, 4): 37,\n",
       " (4, 5): 38,\n",
       " (4, 7): 39,\n",
       " (4, 9): 40,\n",
       " (4, 12): 41,\n",
       " (4, 13): 42,\n",
       " (4, 14): 43,\n",
       " (4, 19): 44,\n",
       " (4, 20): 45,\n",
       " (5, 1): 46,\n",
       " (5, 2): 47,\n",
       " (5, 3): 48,\n",
       " (5, 4): 49,\n",
       " (5, 5): 50,\n",
       " (5, 6): 51,\n",
       " (5, 7): 52,\n",
       " (5, 8): 53,\n",
       " (5, 9): 54,\n",
       " (5, 10): 55,\n",
       " (5, 13): 56,\n",
       " (5, 14): 57,\n",
       " (5, 17): 58,\n",
       " (5, 18): 59,\n",
       " (5, 20): 60,\n",
       " (6, 7): 61,\n",
       " (6, 9): 62,\n",
       " (6, 10): 63,\n",
       " (6, 11): 64,\n",
       " (6, 12): 65,\n",
       " (6, 13): 66,\n",
       " (6, 14): 67,\n",
       " (6, 17): 68,\n",
       " (6, 18): 69,\n",
       " (6, 20): 70,\n",
       " (7, 9): 71,\n",
       " (7, 10): 72,\n",
       " (7, 12): 73,\n",
       " (7, 14): 74,\n",
       " (7, 15): 75,\n",
       " (7, 18): 76,\n",
       " (7, 19): 77,\n",
       " (7, 20): 78,\n",
       " (8, 1): 79,\n",
       " (8, 2): 80,\n",
       " (8, 3): 81,\n",
       " (8, 4): 82,\n",
       " (8, 5): 83,\n",
       " (8, 6): 84,\n",
       " (8, 7): 85,\n",
       " (8, 8): 86,\n",
       " (8, 9): 87,\n",
       " (8, 10): 88,\n",
       " (8, 12): 89,\n",
       " (8, 14): 90,\n",
       " (8, 15): 91,\n",
       " (8, 17): 92,\n",
       " (8, 19): 93,\n",
       " (8, 20): 94,\n",
       " (9, 5): 95,\n",
       " (9, 7): 96,\n",
       " (9, 8): 97,\n",
       " (9, 10): 98,\n",
       " (9, 12): 99,\n",
       " (9, 14): 100,\n",
       " (9, 15): 101,\n",
       " (9, 16): 102,\n",
       " (9, 17): 103,\n",
       " (9, 18): 104,\n",
       " (9, 20): 105}"
      ]
     },
     "execution_count": 9,
     "metadata": {},
     "output_type": "execute_result"
    }
   ],
   "source": [
    "coord_to_label"
   ]
  },
  {
   "cell_type": "code",
   "execution_count": null,
   "metadata": {},
   "outputs": [],
   "source": []
  }
 ],
 "metadata": {
  "kernelspec": {
   "display_name": "Python 3 (ipykernel)",
   "language": "python",
   "name": "python3"
  },
  "language_info": {
   "codemirror_mode": {
    "name": "ipython",
    "version": 3
   },
   "file_extension": ".py",
   "mimetype": "text/x-python",
   "name": "python",
   "nbconvert_exporter": "python",
   "pygments_lexer": "ipython3",
   "version": "3.8.8"
  }
 },
 "nbformat": 4,
 "nbformat_minor": 4
}
