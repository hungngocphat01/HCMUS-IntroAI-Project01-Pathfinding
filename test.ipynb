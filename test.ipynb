{
 "cells": [
  {
   "cell_type": "code",
   "execution_count": 1,
   "metadata": {},
   "outputs": [],
   "source": [
    "from maze_preprocess import preprocess_maze\n",
    "from teacher_utils import read_file"
   ]
  },
  {
   "cell_type": "code",
   "execution_count": 2,
   "metadata": {},
   "outputs": [],
   "source": [
    "bonus_points, matrix = read_file('maze_map.txt')"
   ]
  },
  {
   "cell_type": "code",
   "execution_count": 3,
   "metadata": {},
   "outputs": [],
   "source": [
    "out = preprocess_maze(matrix, bonus_points)"
   ]
  },
  {
   "cell_type": "code",
   "execution_count": 4,
   "metadata": {},
   "outputs": [],
   "source": [
    "# Ma trận kề:\n",
    "adj_matrix = out['adj_matrix']\n",
    "# Tọa độ điểm bắt đầu & kết thúc:\n",
    "start = out['start']\n",
    "end = out['end']\n",
    "# Các dictionary ánh xạ từ tọa độ sang nhãn trên đồ thị và ngược lại\n",
    "coord_to_label = out['coord_to_label']\n",
    "label_to_coord = out['label_to_coord']"
   ]
  },
  {
   "cell_type": "code",
   "execution_count": 5,
   "metadata": {},
   "outputs": [
    {
     "data": {
      "text/plain": [
       "((8, 15), (4, 0))"
      ]
     },
     "execution_count": 5,
     "metadata": {},
     "output_type": "execute_result"
    }
   ],
   "source": [
    "start, end"
   ]
  },
  {
   "cell_type": "code",
   "execution_count": 6,
   "metadata": {},
   "outputs": [
    {
     "data": {
      "text/plain": [
       "(91, 34)"
      ]
     },
     "execution_count": 6,
     "metadata": {},
     "output_type": "execute_result"
    }
   ],
   "source": [
    "# Chuyển tọa độ start, end thành các nhãn trên ma trận kề\n",
    "start_label = coord_to_label[start]\n",
    "end_label = coord_to_label[end]\n",
    "\n",
    "start_label, end_label"
   ]
  },
  {
   "cell_type": "code",
   "execution_count": 7,
   "metadata": {},
   "outputs": [],
   "source": [
    "# Tìm đường đi ngắn nhất từ điểm có nhãn 91 đến 34 (trên ma trận kề)"
   ]
  }
 ],
 "metadata": {
  "interpreter": {
   "hash": "4e4c2c0f6b2085336f04bbfd7596f27c933c26eefbcd6d47580db8892027b1de"
  },
  "kernelspec": {
   "display_name": "Python 3.8.8 64-bit ('minds': conda)",
   "name": "python3"
  },
  "language_info": {
   "codemirror_mode": {
    "name": "ipython",
    "version": 3
   },
   "file_extension": ".py",
   "mimetype": "text/x-python",
   "name": "python",
   "nbconvert_exporter": "python",
   "pygments_lexer": "ipython3",
   "version": "3.8.8"
  }
 },
 "nbformat": 4,
 "nbformat_minor": 4
}
